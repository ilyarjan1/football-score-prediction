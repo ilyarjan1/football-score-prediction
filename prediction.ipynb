{
  "cells": [
    {
      "cell_type": "code",
      "source": [
        "pip install fuzzywuzzy"
      ],
      "metadata": {
        "colab": {
          "base_uri": "https://localhost:8080/"
        },
        "id": "NLMZ3D-pdm9A",
        "outputId": "b9df6932-743b-45b9-f968-ee294d428c7f"
      },
      "execution_count": null,
      "outputs": [
        {
          "output_type": "stream",
          "name": "stdout",
          "text": [
            "Collecting fuzzywuzzy\n",
            "  Downloading fuzzywuzzy-0.18.0-py2.py3-none-any.whl (18 kB)\n",
            "Installing collected packages: fuzzywuzzy\n",
            "Successfully installed fuzzywuzzy-0.18.0\n"
          ]
        }
      ]
    },
    {
      "cell_type": "code",
      "source": [
        "from google.colab import drive\n",
        "drive.mount('/content/drive')"
      ],
      "metadata": {
        "colab": {
          "base_uri": "https://localhost:8080/"
        },
        "id": "6AB5A-UQ--23",
        "outputId": "9682d74c-b023-4f63-9526-2fe32ce4aa59"
      },
      "execution_count": null,
      "outputs": [
        {
          "output_type": "stream",
          "name": "stdout",
          "text": [
            "Mounted at /content/drive\n"
          ]
        }
      ]
    },
    {
      "cell_type": "markdown",
      "source": [
        "# Новый раздел"
      ],
      "metadata": {
        "id": "e_C738Tl_cR7"
      }
    },
    {
      "cell_type": "code",
      "execution_count": 4,
      "metadata": {
        "id": "8cBdwF0_csSq"
      },
      "outputs": [],
      "source": [
        "import requests\n",
        "from bs4 import BeautifulSoup\n",
        "import tensorflow as tf\n",
        "import json\n",
        "import numpy as np\n",
        "from fuzzywuzzy import fuzz\n",
        "\n",
        "# links\n",
        "understat = {\n",
        "    'match_link': 'https://understat.com/match/',\n",
        "    '22/23': {\n",
        "        'EPL': 'https://understat.com/league/EPL/2022',\n",
        "        'Serie A': 'https://understat.com/league/Serie_A/2022',\n",
        "        'La liga': 'https://understat.com/league/La_liga/2022',\n",
        "        'Bundesliga': 'https://understat.com/league/Bundesliga/2022',\n",
        "        'Ligue 1': 'https://understat.com/league/Ligue_1/2022'\n",
        "    },\n",
        "    '21/22': {\n",
        "        'EPL': 'https://understat.com/league/EPL/2021',\n",
        "        'Serie A': 'https://understat.com/league/Serie_A/2021',\n",
        "        'La liga': 'https://understat.com/league/La_liga/2021',\n",
        "        'Bundesliga': 'https://understat.com/league/Bundesliga/2021',\n",
        "        'Ligue 1': 'https://understat.com/league/Ligue_1/2021'\n",
        "    },\n",
        "    '20/21': {\n",
        "        'EPL': 'https://understat.com/league/EPL/2020',\n",
        "        'Serie A': 'https://understat.com/league/Serie_A/2020',\n",
        "        'La liga': 'https://understat.com/league/La_liga/2020',\n",
        "        'Bundesliga': 'https://understat.com/league/Bundesliga/2020',\n",
        "        'Ligue 1': 'https://understat.com/league/Ligue_1/2020'\n",
        "    },\n",
        "    '19/20': {\n",
        "        'EPL': 'https://understat.com/league/EPL/2019',\n",
        "        'Serie A': 'https://understat.com/league/Serie_A/2019',\n",
        "        'La liga': 'https://understat.com/league/La_liga/2019',\n",
        "        'Bundesliga': 'https://understat.com/league/Bundesliga/2019',\n",
        "        'Ligue 1': 'https://understat.com/league/Ligue_1/2019'\n",
        "    },\n",
        "    '18/19': {\n",
        "        'EPL': 'https://understat.com/league/EPL/2018',\n",
        "        'Serie A': 'https://understat.com/league/Serie_A/2018',\n",
        "        'La liga': 'https://understat.com/league/La_liga/2018',\n",
        "        'Bundesliga': 'https://understat.com/league/Bundesliga/2018',\n",
        "        'Ligue 1': 'https://understat.com/league/Ligue_1/2018'\n",
        "    },\n",
        "    '17/18': {\n",
        "        'EPL': 'https://understat.com/league/EPL/2018',\n",
        "        'Serie A': 'https://understat.com/league/Serie_A/2017',\n",
        "        'La liga': 'https://understat.com/league/La_liga/2017',\n",
        "        'Bundesliga': 'https://understat.com/league/Bundesliga/2017',\n",
        "        'Ligue 1': 'https://understat.com/league/Ligue_1/2017'\n",
        "    },\n",
        "    '16/17': {\n",
        "        'EPL': 'https://understat.com/league/EPL/2016',\n",
        "        'Serie A': 'https://understat.com/league/Serie_A/2016',\n",
        "        'La liga': 'https://understat.com/league/La_liga/2016',\n",
        "        'Bundesliga': 'https://understat.com/league/Bundesliga/2016',\n",
        "        'Ligue 1': 'https://understat.com/league/Ligue_1/2016'\n",
        "    },\n",
        "    '15/16': {\n",
        "        'EPL': 'https://understat.com/league/EPL/2015',\n",
        "        'Serie A': 'https://understat.com/league/Serie_A/2015',\n",
        "        'La liga': 'https://understat.com/league/La_liga/2015',\n",
        "        'Bundesliga': 'https://understat.com/league/Bundesliga/2015',\n",
        "        'Ligue 1': 'https://understat.com/league/Ligue_1/2015'\n",
        "    },\n",
        "    '14/15': {\n",
        "        'EPL': 'https://understat.com/league/EPL/2014',\n",
        "        'Serie A': 'https://understat.com/league/Serie_A/2014',\n",
        "        'La liga': 'https://understat.com/league/La_liga/2014',\n",
        "        'Bundesliga': 'https://understat.com/league/Bundesliga/2014',\n",
        "        'Ligue 1': 'https://understat.com/league/Ligue_1/2014'\n",
        "    },\n",
        "}\n",
        "# enums\n",
        "HOME, AWAY = 0, 1\n",
        "DRAW, WON, LOST = 0, 1, 2\n",
        "W_PTS, D_PTS, L_PTS = 3, 1, 0"
      ]
    },
    {
      "cell_type": "code",
      "execution_count": 5,
      "metadata": {
        "id": "LV0YTPuxcsSq"
      },
      "outputs": [],
      "source": [
        "class Club :\n",
        "    def __init__(self, club : str) :\n",
        "        self.last_5, self.last_10, self.last_15, self.last_25, self.last_38 = [], [], [], [], []\n",
        "        self.club = club"
      ]
    },
    {
      "cell_type": "code",
      "execution_count": 6,
      "metadata": {
        "id": "KzS6N_W1csSq"
      },
      "outputs": [],
      "source": [
        "def get_all_clubs(url) :\n",
        "    clubs = []\n",
        "    res = requests.get(url)\n",
        "\n",
        "    soup = BeautifulSoup(res.content, 'lxml')\n",
        "    scripts = soup.find_all('script')\n",
        "    strings = scripts[1].string\n",
        "\n",
        "    ind_start = strings.index(\"('\") + 2\n",
        "    ind_end = strings.index(\"')\")\n",
        "\n",
        "    json_data = strings[ind_start : ind_end]\n",
        "    json_data = json_data.encode('utf8').decode('unicode_escape')\n",
        "\n",
        "    data = json.loads(json_data)\n",
        "    for i in range(10) :\n",
        "        clubs.append(data[i]['h']['title'])\n",
        "        clubs.append(data[i]['a']['title'])\n",
        "    return set(clubs)\n",
        "\n",
        "all_clubs = []\n",
        "for key, value in understat.items() :\n",
        "    if (key == 'match_link') : continue\n",
        "    for name, link in value.items() :\n",
        "        all_clubs = all_clubs + list(get_all_clubs(link))\n",
        "all_clubs = set(all_clubs)\n",
        "\n",
        "all_club_dict = {}\n",
        "\n",
        "for club in all_clubs :\n",
        "    all_club_dict[club] = Club(club)"
      ]
    },
    {
      "cell_type": "code",
      "execution_count": 10,
      "metadata": {
        "id": "gVam3vUWcsSq"
      },
      "outputs": [],
      "source": [
        "model = tf.keras.models.load_model('/content/prediction_model')\n",
        "loaded_clubs = np.load('clubs_stats_for_predictions.npy', allow_pickle=True).item()\n",
        "\n",
        "for club in all_clubs :\n",
        "    all_club_dict[club].last_5 = loaded_clubs[club][0][0]\n",
        "    all_club_dict[club].last_10 = loaded_clubs[club][0][1]\n",
        "    all_club_dict[club].last_15 = loaded_clubs[club][0][2]\n",
        "    all_club_dict[club].last_25 = loaded_clubs[club][0][3]\n",
        "    all_club_dict[club].last_38 = loaded_clubs[club][0][4]\n",
        "\n"
      ]
    },
    {
      "cell_type": "code",
      "execution_count": 11,
      "metadata": {
        "id": "MDgNLCFxcsSq"
      },
      "outputs": [],
      "source": [
        "def match_names(name : str) :\n",
        "        name = name.lower()\n",
        "        closest_approximation = \"\"\n",
        "        greatest_value = -1\n",
        "\n",
        "        for club in all_clubs :\n",
        "            ratio = fuzz.ratio(name, club.lower())\n",
        "            partial_ratio = fuzz.partial_ratio(name, club.lower())\n",
        "\n",
        "            value = ratio * 0.6 + partial_ratio * 0.4\n",
        "\n",
        "            if (value > greatest_value) :\n",
        "                greatest_value = value\n",
        "                closest_approximation = club\n",
        "\n",
        "        if (greatest_value < 35) : return None\n",
        "        else : return closest_approximation"
      ]
    },
    {
      "cell_type": "code",
      "execution_count": 12,
      "metadata": {
        "id": "SBXIVkutcsSq"
      },
      "outputs": [],
      "source": [
        "def predict(home_team, away_team) :\n",
        "    home_team = match_names(home_team)\n",
        "    away_team = match_names(away_team)\n",
        "    input = []\n",
        "\n",
        "    input.append(all_club_dict[home_team].last_5\n",
        "            + all_club_dict[home_team].last_10\n",
        "            + all_club_dict[home_team].last_15\n",
        "            + all_club_dict[home_team].last_25\n",
        "            + all_club_dict[home_team].last_38\n",
        "            + all_club_dict[away_team].last_5\n",
        "            + all_club_dict[away_team].last_10\n",
        "            + all_club_dict[away_team].last_15\n",
        "            + all_club_dict[away_team].last_25\n",
        "            + all_club_dict[away_team].last_38\n",
        "        )\n",
        "    prediction = model.predict(input)\n",
        "\n",
        "    print('DRAW chance:', \"{:.2f}\".format(prediction[0][0] * 100))\n",
        "    print(home_team, 'WIN chance:', \"{:.2f}\".format(prediction[0][1] * 100))\n",
        "    print(away_team, 'WIN chance:', \"{:.2f}\".format(prediction[0][2] * 100))"
      ]
    },
    {
      "cell_type": "code",
      "execution_count": 13,
      "metadata": {
        "id": "uyDZedfucsSr",
        "outputId": "9b89dfc5-0c4d-4cf7-aeb9-813a699f855e",
        "colab": {
          "base_uri": "https://localhost:8080/"
        }
      },
      "outputs": [
        {
          "output_type": "stream",
          "name": "stdout",
          "text": [
            "Football Match Prediction:\n",
            "\n",
            "Home Team:PSG\n",
            "You entered: Pescara\n",
            "Away Team:Real Madrid\n",
            "You entered: Real Madrid\n",
            "1/1 [==============================] - 0s 187ms/step\n",
            "DRAW chance: 20.19\n",
            "Pescara WIN chance: 16.23\n",
            "Real Madrid WIN chance: 63.58\n"
          ]
        }
      ],
      "source": [
        "import builtins\n",
        "\n",
        "print(\"Football Match Prediction:\\n\")\n",
        "pred_home_team = builtins.input('Home Team:')\n",
        "print('You entered:', match_names(pred_home_team))\n",
        "pred_away_team = builtins.input('Away Team:')\n",
        "print('You entered:',  match_names(pred_away_team))\n",
        "predict(pred_home_team, pred_away_team)"
      ]
    }
  ],
  "metadata": {
    "kernelspec": {
      "display_name": "Python 3",
      "language": "python",
      "name": "python3"
    },
    "language_info": {
      "codemirror_mode": {
        "name": "ipython",
        "version": 3
      },
      "file_extension": ".py",
      "mimetype": "text/x-python",
      "name": "python",
      "nbconvert_exporter": "python",
      "pygments_lexer": "ipython3",
      "version": "3.10.9"
    },
    "orig_nbformat": 4,
    "vscode": {
      "interpreter": {
        "hash": "bb33f6d328f18c07440802b8c66874c52744b86bff5cfe8eb1d71afeb55a2150"
      }
    },
    "colab": {
      "provenance": []
    }
  },
  "nbformat": 4,
  "nbformat_minor": 0
}